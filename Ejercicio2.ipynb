{
  "nbformat": 4,
  "nbformat_minor": 0,
  "metadata": {
    "colab": {
      "name": "Ejercicio2.ipynb",
      "provenance": [],
      "collapsed_sections": [],
      "authorship_tag": "ABX9TyOXEzPdz+9GY+PTYjsYthVQ",
      "include_colab_link": true
    },
    "kernelspec": {
      "name": "python3",
      "display_name": "Python 3"
    },
    "language_info": {
      "name": "python"
    }
  },
  "cells": [
    {
      "cell_type": "markdown",
      "metadata": {
        "id": "view-in-github",
        "colab_type": "text"
      },
      "source": [
        "<a href=\"https://colab.research.google.com/github/LCaravaggio/ClaseTimeSeries/blob/main/Ejercicio2.ipynb\" target=\"_parent\"><img src=\"https://colab.research.google.com/assets/colab-badge.svg\" alt=\"Open In Colab\"/></a>"
      ]
    },
    {
      "cell_type": "markdown",
      "source": [
        "# Ejercicio 2"
      ],
      "metadata": {
        "id": "lCqZ9FzMxrSO"
      }
    },
    {
      "cell_type": "markdown",
      "source": [
        "La primera parte es toda igual.\n",
        "\n",
        "Primero importamos todas las librerías necesarias, solo que esta vez incluimos la librería statsmodels"
      ],
      "metadata": {
        "id": "s4tcY5HixuLm"
      }
    },
    {
      "cell_type": "code",
      "execution_count": 51,
      "metadata": {
        "id": "1PEKVTO-WdWl"
      },
      "outputs": [],
      "source": [
        "from google.colab import drive\n",
        "import json\n",
        "\n",
        "import requests\n",
        "from requests.auth import HTTPBasicAuth\n",
        "\n",
        "import pandas as pd\n",
        "\n",
        "import seaborn as sns\n",
        "\n",
        "import statsmodels.formula.api as smf\n",
        "import statsmodels"
      ]
    },
    {
      "cell_type": "markdown",
      "source": [
        "Por una cuestión de seguridad, tenemos la clave de la API guardada en el drive, así que accedemos a la misma."
      ],
      "metadata": {
        "id": "HxwQc4Ypxyga"
      }
    },
    {
      "cell_type": "code",
      "source": [
        "drive.mount('/content/drive', force_remount=True)\n",
        "with open(\"/content/drive/My Drive/alphacast.json\", 'r') as f:\n",
        "    api_token= json.load(f)"
      ],
      "metadata": {
        "colab": {
          "base_uri": "https://localhost:8080/"
        },
        "id": "-7zhUQqvWfxS",
        "outputId": "adaa0455-862c-4765-fbae-2bdce21b64a5"
      },
      "execution_count": 12,
      "outputs": [
        {
          "output_type": "stream",
          "name": "stdout",
          "text": [
            "Mounted at /content/drive\n"
          ]
        }
      ]
    },
    {
      "cell_type": "code",
      "source": [
        "# Definir user key para la API\n",
        "user_key = api_token[\"key\"]"
      ],
      "metadata": {
        "id": "3pxEMECIWqge"
      },
      "execution_count": null,
      "outputs": []
    },
    {
      "cell_type": "markdown",
      "source": [
        "Ahora vamos a tomar la serie sin estacionalidad, en vez de la serie original como hicimos en el Ejercicio 1. "
      ],
      "metadata": {
        "id": "sXNq63K6yBGN"
      }
    },
    {
      "cell_type": "code",
      "source": [
        "# EMAE\n",
        "emae = requests.get('https://api.alphacast.io/datasets/5331/data?apiKey='+user_key+'&&$format=csv', auth=HTTPBasicAuth(user_key, ''))\n",
        "open('emae.csv','wb').write(emae.content)\n",
        "emae = pd.read_csv('emae.csv',delimiter = ',')"
      ],
      "metadata": {
        "id": "vEORXDt4W6xM"
      },
      "execution_count": 59,
      "outputs": []
    },
    {
      "cell_type": "code",
      "source": [
        "emae['Date'] = pd.to_datetime(emae['Date'])\n",
        "emae.set_index('Date', inplace = True)\n",
        "emae = emae['Emae - sa_orig - current_prices_mom']\n",
        "emae.columns = ['Emae - sa_orig - current_prices_mom']\n",
        "emae = emae.loc['2016-02-01':]"
      ],
      "metadata": {
        "id": "YpoqavEtXSYS"
      },
      "execution_count": 60,
      "outputs": []
    },
    {
      "cell_type": "code",
      "source": [
        "# IPI\n",
        "ipi = requests.get('https://api.alphacast.io/datasets/5679/data?apiKey='+user_key+'&&$format=csv', auth=HTTPBasicAuth(user_key, ''))\n",
        "open('ipi.csv','wb').write(ipi.content)\n",
        "ipi = pd.read_csv('ipi.csv',delimiter = ',')"
      ],
      "metadata": {
        "id": "xZIuRKEO7RQI"
      },
      "execution_count": 61,
      "outputs": []
    },
    {
      "cell_type": "code",
      "source": [
        "ipi['Date'] = pd.to_datetime(ipi['Date'])\n",
        "ipi.set_index('Date', inplace = True)\n",
        "ipi = ipi['IPI - sa_MoM']\n",
        "ipi.columns = ['IPI - sa_mom']\n",
        "ipi = ipi.loc['2016-02-01':]"
      ],
      "metadata": {
        "id": "KtJhgPsS7Z6B"
      },
      "execution_count": 62,
      "outputs": []
    },
    {
      "cell_type": "code",
      "source": [
        "# ISAC\n",
        "isac = requests.get('https://api.alphacast.io/datasets/5565/data?apiKey='+user_key+'&&$format=csv', auth=HTTPBasicAuth(user_key, ''))\n",
        "open('isac.csv','wb').write(isac.content)\n",
        "isac = pd.read_csv('isac.csv',delimiter = ',')"
      ],
      "metadata": {
        "id": "QWIIFYpD_iCO"
      },
      "execution_count": 63,
      "outputs": []
    },
    {
      "cell_type": "code",
      "source": [
        "isac['Date'] = pd.to_datetime(isac['Date'])\n",
        "isac.set_index('Date', inplace = True)\n",
        "isac = isac['Nivel general - sa_MoM']\n",
        "isac.columns = ['Nivel general - sa_MoM']\n",
        "isac = isac.loc['2016-02-01':]"
      ],
      "metadata": {
        "id": "TDRCD3Ax_vcC"
      },
      "execution_count": 64,
      "outputs": []
    },
    {
      "cell_type": "markdown",
      "source": [
        "Preparamos una función para graficar"
      ],
      "metadata": {
        "id": "OoQZtGXYyGco"
      }
    },
    {
      "cell_type": "code",
      "source": [
        "sns.set_theme(style='darkgrid')\n",
        "def graficar(variable):\n",
        "    fig = sns.lineplot(x=variable.index, y=variable)\n",
        "    plt.title(variable.name)\n",
        "    plt.xlabel(\"Año\")\n",
        "    plt.savefig('%s.png'%variable.name)\n",
        "    return fig"
      ],
      "metadata": {
        "id": "1dqljEFrae3g"
      },
      "execution_count": 40,
      "outputs": []
    },
    {
      "cell_type": "markdown",
      "source": [
        "Y la graficamos. Si bien la serie se estancadesde 2011, claramente su media depende del tiempo, por lo que no podemos quedarnos tranquilos que sea estacionaria. Por otro lado se observa su comportamiento estacional ya que lo que trajimos fue la serie original y no la desestacionalizada. "
      ],
      "metadata": {
        "id": "zlq4qFwOyJwl"
      }
    },
    {
      "cell_type": "code",
      "source": [
        "graficar(ipi)"
      ],
      "metadata": {
        "colab": {
          "base_uri": "https://localhost:8080/",
          "height": 318
        },
        "id": "gBNgjxChbE_a",
        "outputId": "7b13cf75-7f4c-4915-8df4-685a87c16bd0"
      },
      "execution_count": 41,
      "outputs": [
        {
          "output_type": "execute_result",
          "data": {
            "text/plain": [
              "<matplotlib.axes._subplots.AxesSubplot at 0x7f5ab90f7f90>"
            ]
          },
          "metadata": {},
          "execution_count": 41
        },
        {
          "output_type": "display_data",
          "data": {
            "image/png": "[encoded data removed]",
            "text/plain": [
              "<Figure size 432x288 with 1 Axes>"
            ]
          },
          "metadata": {}
        }
      ]
    },
    {
      "cell_type": "markdown",
      "source": [
        "Chequeamos si la serie es estacionaria con el test de Dickey-Fuller aumentado del paquete Statsmodels. \n",
        "\n",
        "La H0 del modelo es que la serie tiene raíz unitaria, es decir que no es estacionaria. \n",
        "\n",
        "Como el p-value <= 0.05 quiere decir que se puede rechazar la H0 y por tanto se asume que la serie es estacionaria. "
      ],
      "metadata": {
        "id": "RsKbau1rF18C"
      }
    },
    {
      "cell_type": "code",
      "source": [
        "from statsmodels.tsa.stattools import adfuller\n",
        "res=adfuller(emae)\n",
        "print('ADF Statistic: %f' % res[0])\n",
        "print('p-value: %f' % res[1])\n",
        "print('Critical Values:')\n",
        "for key, value in res[4].items():\n",
        "\tprint('\\t%s: %.3f' % (key, value))"
      ],
      "metadata": {
        "id": "46VMc91SDmqm",
        "outputId": "0d5a804e-8e6b-4dcc-a894-cf08b96305c4",
        "colab": {
          "base_uri": "https://localhost:8080/"
        }
      },
      "execution_count": 73,
      "outputs": [
        {
          "output_type": "stream",
          "name": "stdout",
          "text": [
            "ADF Statistic: -7.223268\n",
            "p-value: 0.000000\n",
            "Critical Values:\n",
            "\t1%: -3.530\n",
            "\t5%: -2.905\n",
            "\t10%: -2.590\n"
          ]
        }
      ]
    },
    {
      "cell_type": "code",
      "source": [
        "frame = { 'EMAE': emae, 'IPI': ipi , 'ISAC': isac}\n",
        "df = pd.DataFrame(frame)"
      ],
      "metadata": {
        "id": "FURe1r2-Ct8Q"
      },
      "execution_count": 74,
      "outputs": []
    },
    {
      "cell_type": "code",
      "source": [
        "results = smf.ols('EMAE ~ IPI + ISAC', data=df).fit()"
      ],
      "metadata": {
        "id": "AdTu1PFkBGsz"
      },
      "execution_count": 75,
      "outputs": []
    },
    {
      "cell_type": "code",
      "source": [
        "print(results.summary())"
      ],
      "metadata": {
        "id": "3qd2-h-9DNBh",
        "outputId": "2d4251bb-5c4f-490c-d102-bab9397faf0d",
        "colab": {
          "base_uri": "https://localhost:8080/"
        }
      },
      "execution_count": 76,
      "outputs": [
        {
          "output_type": "stream",
          "name": "stdout",
          "text": [
            "                            OLS Regression Results                            \n",
            "==============================================================================\n",
            "Dep. Variable:                   EMAE   R-squared:                       0.728\n",
            "Model:                            OLS   Adj. R-squared:                  0.720\n",
            "Method:                 Least Squares   F-statistic:                     89.59\n",
            "Date:                Fri, 11 Feb 2022   Prob (F-statistic):           1.17e-19\n",
            "Time:                        18:45:01   Log-Likelihood:                -131.32\n",
            "No. Observations:                  70   AIC:                             268.6\n",
            "Df Residuals:                      67   BIC:                             275.4\n",
            "Df Model:                           2                                         \n",
            "Covariance Type:            nonrobust                                         \n",
            "==============================================================================\n",
            "                 coef    std err          t      P>|t|      [0.025      0.975]\n",
            "------------------------------------------------------------------------------\n",
            "Intercept     -0.1403      0.194     -0.725      0.471      -0.527       0.246\n",
            "IPI            0.1372      0.046      2.952      0.004       0.044       0.230\n",
            "ISAC           0.1230      0.018      6.926      0.000       0.088       0.158\n",
            "==============================================================================\n",
            "Omnibus:                       58.146   Durbin-Watson:                   1.617\n",
            "Prob(Omnibus):                  0.000   Jarque-Bera (JB):              426.480\n",
            "Skew:                          -2.252   Prob(JB):                     2.46e-93\n",
            "Kurtosis:                      14.222   Cond. No.                         16.4\n",
            "==============================================================================\n",
            "\n",
            "Warnings:\n",
            "[1] Standard Errors assume that the covariance matrix of the errors is correctly specified.\n"
          ]
        }
      ]
    }
  ]
}
