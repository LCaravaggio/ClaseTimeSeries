{
  "nbformat": 4,
  "nbformat_minor": 0,
  "metadata": {
    "colab": {
      "name": "Ejercicio1.ipynb",
      "provenance": [],
      "collapsed_sections": [],
      "authorship_tag": "ABX9TyO7M4BngyFGCVVrX0Vd5uQY",
      "include_colab_link": true
    },
    "kernelspec": {
      "name": "python3",
      "display_name": "Python 3"
    },
    "language_info": {
      "name": "python"
    }
  },
  "cells": [
    {
      "cell_type": "markdown",
      "metadata": {
        "id": "view-in-github",
        "colab_type": "text"
      },
      "source": [
        "<a href=\"https://colab.research.google.com/github/LCaravaggio/ClaseTimeSeries/blob/main/Ejercicio3.ipynb\" target=\"_parent\"><img src=\"https://colab.research.google.com/assets/colab-badge.svg\" alt=\"Open In Colab\"/></a>"
      ]
    },
    {
      "cell_type": "markdown",
      "source": [
        "# Ejercicio 3"
      ],
      "metadata": {
        "id": "lCqZ9FzMxrSO"
      }
    },
    {
      "cell_type": "markdown",
      "source": [
        "La primera parte es toda igual.\n",
        "\n",
        "Primero importamos todas las librerías necesarias. "
      ],
      "metadata": {
        "id": "s4tcY5HixuLm"
      }
    },
    {
      "cell_type": "code",
      "execution_count": 24,
      "metadata": {
        "id": "1PEKVTO-WdWl"
      },
      "outputs": [],
      "source": [
        "from google.colab import drive\n",
        "import json\n",
        "\n",
        "import requests\n",
        "from requests.auth import HTTPBasicAuth\n",
        "\n",
        "import pandas as pd\n",
        "\n",
        "import matplotlib.pyplot as plt \n",
        "import seaborn as sns\n",
        "\n",
        "import statsmodels.formula.api as smf\n",
        "import statsmodels"
      ]
    },
    {
      "cell_type": "markdown",
      "source": [
        "Por una cuestión de seguridad, tenemos la clave de la API guardada en el drive, así que accedemos a la misma."
      ],
      "metadata": {
        "id": "HxwQc4Ypxyga"
      }
    },
    {
      "cell_type": "code",
      "source": [
        "drive.mount('/content/drive', force_remount=True)\n",
        "with open(\"/content/drive/My Drive/alphacast.json\", 'r') as f:\n",
        "    api_token= json.load(f)"
      ],
      "metadata": {
        "colab": {
          "base_uri": "https://localhost:8080/"
        },
        "id": "-7zhUQqvWfxS",
        "outputId": "0e705caa-273d-429e-c0d2-c816d8784010"
      },
      "execution_count": 2,
      "outputs": [
        {
          "output_type": "stream",
          "name": "stdout",
          "text": [
            "Mounted at /content/drive\n"
          ]
        }
      ]
    },
    {
      "cell_type": "code",
      "source": [
        "# Definir user key para la API\n",
        "user_key = api_token[\"key\"]"
      ],
      "metadata": {
        "id": "3pxEMECIWqge"
      },
      "execution_count": 3,
      "outputs": []
    },
    {
      "cell_type": "markdown",
      "source": [
        "Para ir incorporando también opciones de uso de la API, podemos traer solo una columna esta vez. En este caso nos interesa solo el Nivel General del IPC. "
      ],
      "metadata": {
        "id": "sXNq63K6yBGN"
      }
    },
    {
      "cell_type": "code",
      "source": [
        "# IPC\n",
        "select='68119'\n",
        "ipc = requests.get('https://api.alphacast.io/datasets/5864/data?apiKey='+user_key+'&%24select='+select+'&$format=csv', auth=HTTPBasicAuth(user_key, ''))\n",
        "open('ipc.csv','wb').write(ipc.content)\n",
        "ipc = pd.read_csv('ipc.csv',delimiter = ',')"
      ],
      "metadata": {
        "id": "vEORXDt4W6xM"
      },
      "execution_count": 12,
      "outputs": []
    },
    {
      "cell_type": "markdown",
      "source": [
        "Ahora traemos M0, e incorporamos el corte de fecha directamente en la llamada. "
      ],
      "metadata": {
        "id": "kZjpVgR9inNb"
      }
    },
    {
      "cell_type": "code",
      "source": [
        "# M0\n",
        "select='8092'\n",
        "data='6054'\n",
        "fecha='2015-12-01'\n",
        "m0 = requests.get('https://api.alphacast.io/datasets/'+data+'/data?apiKey='+user_key+'&%24select='+select+'&%24filter=%27Date%27+ge+'+fecha+'T03%3A00%3A00.000Z&$format=csv', auth=HTTPBasicAuth(user_key, ''))\n",
        "open('m0.csv','wb').write(m0.content)\n",
        "m0 = pd.read_csv('m0.csv',delimiter = ',')"
      ],
      "metadata": {
        "id": "bCdnxcIXijEj"
      },
      "execution_count": 59,
      "outputs": []
    },
    {
      "cell_type": "markdown",
      "source": [
        "Eliminamos la última observación vacía, y graficamos"
      ],
      "metadata": {
        "id": "OoQZtGXYyGco"
      }
    },
    {
      "cell_type": "code",
      "source": [
        "m0=m0[:-1]"
      ],
      "metadata": {
        "id": "9Fr2_0Gfy8E9"
      },
      "execution_count": 140,
      "outputs": []
    },
    {
      "cell_type": "code",
      "source": [
        "M0=m0['Agregados monetarios, saldos afin de mes, en miles de pesos - Base monetaria (M0) - Circulación monetaria - En entidades financieras']\n",
        "IPC=ipc['Nivel general']"
      ],
      "metadata": {
        "id": "fjoOsnpf0ZAb"
      },
      "execution_count": 142,
      "outputs": []
    },
    {
      "cell_type": "code",
      "source": [
        "fig, ax1 = plt.subplots(figsize=(8, 8))\n",
        "ax2 = ax1.twinx()\n",
        "\n",
        "ax1.plot(m0['Date'], M0)\n",
        "ax2.plot(m0['Date'], IPC);"
      ],
      "metadata": {
        "id": "1dqljEFrae3g",
        "outputId": "2ba5f12b-1517-4a50-8704-666155970385",
        "colab": {
          "base_uri": "https://localhost:8080/",
          "height": 496
        }
      },
      "execution_count": 143,
      "outputs": [
        {
          "output_type": "display_data",
          "data": {
            "image/png": "[encoded data removed]",
            "text/plain": [
              "<Figure size 576x576 with 2 Axes>"
            ]
          },
          "metadata": {}
        }
      ]
    },
    {
      "cell_type": "markdown",
      "source": [
        "Vamos a correr ahora un test de Granger para testear la causalidad. "
      ],
      "metadata": {
        "id": "RsKbau1rF18C"
      }
    },
    {
      "cell_type": "code",
      "source": [
        "date= ipc['Date']\n",
        "\n",
        "d = {'Date': date, 'IPC': IPC, 'M0': M0}\n",
        "df = pd.DataFrame(data=d)\n",
        "df"
      ],
      "metadata": {
        "id": "SDfAdjK72mPc",
        "outputId": "78fa96c2-1e89-4d7b-f363-44a3d81803ac",
        "colab": {
          "base_uri": "https://localhost:8080/",
          "height": 424
        }
      },
      "execution_count": 158,
      "outputs": [
        {
          "output_type": "execute_result",
          "data": {
            "text/html": [
              "\n",
              "  <div id=\"df-ad193dcf-ec27-4cc0-95a4-67900583aa4c\">\n",
              "    <div class=\"colab-df-container\">\n",
              "      <div>\n",
              "<style scoped>\n",
              "    .dataframe tbody tr th:only-of-type {\n",
              "        vertical-align: middle;\n",
              "    }\n",
              "\n",
              "    .dataframe tbody tr th {\n",
              "        vertical-align: top;\n",
              "    }\n",
              "\n",
              "    .dataframe thead th {\n",
              "        text-align: right;\n",
              "    }\n",
              "</style>\n",
              "<table border=\"1\" class=\"dataframe\">\n",
              "  <thead>\n",
              "    <tr style=\"text-align: right;\">\n",
              "      <th></th>\n",
              "      <th>Date</th>\n",
              "      <th>IPC</th>\n",
              "      <th>M0</th>\n",
              "    </tr>\n",
              "  </thead>\n",
              "  <tbody>\n",
              "    <tr>\n",
              "      <th>0</th>\n",
              "      <td>2015-12-01</td>\n",
              "      <td>100.000000</td>\n",
              "      <td>53235893.0</td>\n",
              "    </tr>\n",
              "    <tr>\n",
              "      <th>1</th>\n",
              "      <td>2016-01-01</td>\n",
              "      <td>108.787179</td>\n",
              "      <td>51701928.0</td>\n",
              "    </tr>\n",
              "    <tr>\n",
              "      <th>2</th>\n",
              "      <td>2016-02-01</td>\n",
              "      <td>114.170884</td>\n",
              "      <td>55855268.0</td>\n",
              "    </tr>\n",
              "    <tr>\n",
              "      <th>3</th>\n",
              "      <td>2016-03-01</td>\n",
              "      <td>117.000648</td>\n",
              "      <td>59356244.0</td>\n",
              "    </tr>\n",
              "    <tr>\n",
              "      <th>4</th>\n",
              "      <td>2016-04-01</td>\n",
              "      <td>118.812576</td>\n",
              "      <td>56391613.0</td>\n",
              "    </tr>\n",
              "    <tr>\n",
              "      <th>...</th>\n",
              "      <td>...</td>\n",
              "      <td>...</td>\n",
              "      <td>...</td>\n",
              "    </tr>\n",
              "    <tr>\n",
              "      <th>68</th>\n",
              "      <td>2021-08-01</td>\n",
              "      <td>809.371687</td>\n",
              "      <td>228923225.0</td>\n",
              "    </tr>\n",
              "    <tr>\n",
              "      <th>69</th>\n",
              "      <td>2021-09-01</td>\n",
              "      <td>831.993670</td>\n",
              "      <td>240717770.0</td>\n",
              "    </tr>\n",
              "    <tr>\n",
              "      <th>70</th>\n",
              "      <td>2021-10-01</td>\n",
              "      <td>855.682472</td>\n",
              "      <td>229054188.0</td>\n",
              "    </tr>\n",
              "    <tr>\n",
              "      <th>71</th>\n",
              "      <td>2021-11-01</td>\n",
              "      <td>880.888646</td>\n",
              "      <td>261125328.0</td>\n",
              "    </tr>\n",
              "    <tr>\n",
              "      <th>72</th>\n",
              "      <td>2021-12-01</td>\n",
              "      <td>900.780367</td>\n",
              "      <td>275479379.0</td>\n",
              "    </tr>\n",
              "  </tbody>\n",
              "</table>\n",
              "<p>73 rows × 3 columns</p>\n",
              "</div>\n",
              "      <button class=\"colab-df-convert\" onclick=\"convertToInteractive('df-ad193dcf-ec27-4cc0-95a4-67900583aa4c')\"\n",
              "              title=\"Convert this dataframe to an interactive table.\"\n",
              "              style=\"display:none;\">\n",
              "        \n",
              "  <svg xmlns=\"http://www.w3.org/2000/svg\" height=\"24px\"viewBox=\"0 0 24 24\"\n",
              "       width=\"24px\">\n",
              "    <path d=\"M0 0h24v24H0V0z\" fill=\"none\"/>\n",
              "    <path d=\"M18.56 5.44l.94 2.06.94-2.06 2.06-.94-2.06-.94-.94-2.06-.94 2.06-2.06.94zm-11 1L8.5 8.5l.94-2.06 2.06-.94-2.06-.94L8.5 2.5l-.94 2.06-2.06.94zm10 10l.94 2.06.94-2.06 2.06-.94-2.06-.94-.94-2.06-.94 2.06-2.06.94z\"/><path d=\"M17.41 7.96l-1.37-1.37c-.4-.4-.92-.59-1.43-.59-.52 0-1.04.2-1.43.59L10.3 9.45l-7.72 7.72c-.78.78-.78 2.05 0 2.83L4 21.41c.39.39.9.59 1.41.59.51 0 1.02-.2 1.41-.59l7.78-7.78 2.81-2.81c.8-.78.8-2.07 0-2.86zM5.41 20L4 18.59l7.72-7.72 1.47 1.35L5.41 20z\"/>\n",
              "  </svg>\n",
              "      </button>\n",
              "      \n",
              "  <style>\n",
              "    .colab-df-container {\n",
              "      display:flex;\n",
              "      flex-wrap:wrap;\n",
              "      gap: 12px;\n",
              "    }\n",
              "\n",
              "    .colab-df-convert {\n",
              "      background-color: #E8F0FE;\n",
              "      border: none;\n",
              "      border-radius: 50%;\n",
              "      cursor: pointer;\n",
              "      display: none;\n",
              "      fill: #1967D2;\n",
              "      height: 32px;\n",
              "      padding: 0 0 0 0;\n",
              "      width: 32px;\n",
              "    }\n",
              "\n",
              "    .colab-df-convert:hover {\n",
              "      background-color: #E2EBFA;\n",
              "      box-shadow: 0px 1px 2px rgba(60, 64, 67, 0.3), 0px 1px 3px 1px rgba(60, 64, 67, 0.15);\n",
              "      fill: #174EA6;\n",
              "    }\n",
              "\n",
              "    [theme=dark] .colab-df-convert {\n",
              "      background-color: #3B4455;\n",
              "      fill: #D2E3FC;\n",
              "    }\n",
              "\n",
              "    [theme=dark] .colab-df-convert:hover {\n",
              "      background-color: #434B5C;\n",
              "      box-shadow: 0px 1px 3px 1px rgba(0, 0, 0, 0.15);\n",
              "      filter: drop-shadow(0px 1px 2px rgba(0, 0, 0, 0.3));\n",
              "      fill: #FFFFFF;\n",
              "    }\n",
              "  </style>\n",
              "\n",
              "      <script>\n",
              "        const buttonEl =\n",
              "          document.querySelector('#df-ad193dcf-ec27-4cc0-95a4-67900583aa4c button.colab-df-convert');\n",
              "        buttonEl.style.display =\n",
              "          google.colab.kernel.accessAllowed ? 'block' : 'none';\n",
              "\n",
              "        async function convertToInteractive(key) {\n",
              "          const element = document.querySelector('#df-ad193dcf-ec27-4cc0-95a4-67900583aa4c');\n",
              "          const dataTable =\n",
              "            await google.colab.kernel.invokeFunction('convertToInteractive',\n",
              "                                                     [key], {});\n",
              "          if (!dataTable) return;\n",
              "\n",
              "          const docLinkHtml = 'Like what you see? Visit the ' +\n",
              "            '<a target=\"_blank\" href=https://colab.research.google.com/notebooks/data_table.ipynb>data table notebook</a>'\n",
              "            + ' to learn more about interactive tables.';\n",
              "          element.innerHTML = '';\n",
              "          dataTable['output_type'] = 'display_data';\n",
              "          await google.colab.output.renderOutput(dataTable, element);\n",
              "          const docLink = document.createElement('div');\n",
              "          docLink.innerHTML = docLinkHtml;\n",
              "          element.appendChild(docLink);\n",
              "        }\n",
              "      </script>\n",
              "    </div>\n",
              "  </div>\n",
              "  "
            ],
            "text/plain": [
              "          Date         IPC           M0\n",
              "0   2015-12-01  100.000000   53235893.0\n",
              "1   2016-01-01  108.787179   51701928.0\n",
              "2   2016-02-01  114.170884   55855268.0\n",
              "3   2016-03-01  117.000648   59356244.0\n",
              "4   2016-04-01  118.812576   56391613.0\n",
              "..         ...         ...          ...\n",
              "68  2021-08-01  809.371687  228923225.0\n",
              "69  2021-09-01  831.993670  240717770.0\n",
              "70  2021-10-01  855.682472  229054188.0\n",
              "71  2021-11-01  880.888646  261125328.0\n",
              "72  2021-12-01  900.780367  275479379.0\n",
              "\n",
              "[73 rows x 3 columns]"
            ]
          },
          "metadata": {},
          "execution_count": 158
        }
      ]
    },
    {
      "cell_type": "code",
      "source": [
        "from statsmodels.tsa.stattools import grangercausalitytests\n",
        "import numpy as np\n",
        "\n",
        "maxlag=12\n",
        "test = 'ssr_chi2test'\n",
        "\n",
        "def grangers_causation_matrix(data, variables, test='ssr_chi2test', verbose=False):    \n",
        "    \"\"\"Comprueba la causalidad de Granger de todas las combinaciones posibles de la serie temporal.\n",
        "     Las filas son la variable de respuesta, las columnas son predictores. Los valores en la tabla\n",
        "     son los valores P. P-Valores menores que el nivel de significancia (0.05), implica\n",
        "     la hipótesis nula de que los coeficientes de los valores pasados correspondientes es\n",
        "     cero, es decir, la X no hace que Y pueda ser rechazada.\n",
        "    \"\"\"\n",
        "    df = pd.DataFrame(np.zeros((len(variables), len(variables))), columns=variables, index=variables)\n",
        "    for c in df.columns:\n",
        "        for r in df.index:\n",
        "            test_result = grangercausalitytests(data[[r, c]], maxlag=maxlag, verbose=False)\n",
        "            p_values = [round(test_result[i+1][0][test][1],4) for i in range(maxlag)]\n",
        "            if verbose: print(f'Y = {r}, X = {c}, P Values = {p_values}')\n",
        "            min_p_value = np.min(p_values)\n",
        "            df.loc[r, c] = min_p_value\n",
        "    df.columns = [var + '_x' for var in variables]\n",
        "    df.index = [var + '_y' for var in variables]\n",
        "    return df\n",
        "\n",
        "grangers_causation_matrix(df, variables = ['IPC', 'M0'])"
      ],
      "metadata": {
        "id": "46VMc91SDmqm",
        "outputId": "77d8d1f7-0636-41aa-96c6-526441a5c4c1",
        "colab": {
          "base_uri": "https://localhost:8080/",
          "height": 112
        }
      },
      "execution_count": 159,
      "outputs": [
        {
          "output_type": "execute_result",
          "data": {
            "text/html": [
              "\n",
              "  <div id=\"df-4f28be6c-6a8c-4c3b-8137-aab4ed2c99c9\">\n",
              "    <div class=\"colab-df-container\">\n",
              "      <div>\n",
              "<style scoped>\n",
              "    .dataframe tbody tr th:only-of-type {\n",
              "        vertical-align: middle;\n",
              "    }\n",
              "\n",
              "    .dataframe tbody tr th {\n",
              "        vertical-align: top;\n",
              "    }\n",
              "\n",
              "    .dataframe thead th {\n",
              "        text-align: right;\n",
              "    }\n",
              "</style>\n",
              "<table border=\"1\" class=\"dataframe\">\n",
              "  <thead>\n",
              "    <tr style=\"text-align: right;\">\n",
              "      <th></th>\n",
              "      <th>IPC_x</th>\n",
              "      <th>M0_x</th>\n",
              "    </tr>\n",
              "  </thead>\n",
              "  <tbody>\n",
              "    <tr>\n",
              "      <th>IPC_y</th>\n",
              "      <td>1.0</td>\n",
              "      <td>0.0175</td>\n",
              "    </tr>\n",
              "    <tr>\n",
              "      <th>M0_y</th>\n",
              "      <td>0.0</td>\n",
              "      <td>1.0000</td>\n",
              "    </tr>\n",
              "  </tbody>\n",
              "</table>\n",
              "</div>\n",
              "      <button class=\"colab-df-convert\" onclick=\"convertToInteractive('df-4f28be6c-6a8c-4c3b-8137-aab4ed2c99c9')\"\n",
              "              title=\"Convert this dataframe to an interactive table.\"\n",
              "              style=\"display:none;\">\n",
              "        \n",
              "  <svg xmlns=\"http://www.w3.org/2000/svg\" height=\"24px\"viewBox=\"0 0 24 24\"\n",
              "       width=\"24px\">\n",
              "    <path d=\"M0 0h24v24H0V0z\" fill=\"none\"/>\n",
              "    <path d=\"M18.56 5.44l.94 2.06.94-2.06 2.06-.94-2.06-.94-.94-2.06-.94 2.06-2.06.94zm-11 1L8.5 8.5l.94-2.06 2.06-.94-2.06-.94L8.5 2.5l-.94 2.06-2.06.94zm10 10l.94 2.06.94-2.06 2.06-.94-2.06-.94-.94-2.06-.94 2.06-2.06.94z\"/><path d=\"M17.41 7.96l-1.37-1.37c-.4-.4-.92-.59-1.43-.59-.52 0-1.04.2-1.43.59L10.3 9.45l-7.72 7.72c-.78.78-.78 2.05 0 2.83L4 21.41c.39.39.9.59 1.41.59.51 0 1.02-.2 1.41-.59l7.78-7.78 2.81-2.81c.8-.78.8-2.07 0-2.86zM5.41 20L4 18.59l7.72-7.72 1.47 1.35L5.41 20z\"/>\n",
              "  </svg>\n",
              "      </button>\n",
              "      \n",
              "  <style>\n",
              "    .colab-df-container {\n",
              "      display:flex;\n",
              "      flex-wrap:wrap;\n",
              "      gap: 12px;\n",
              "    }\n",
              "\n",
              "    .colab-df-convert {\n",
              "      background-color: #E8F0FE;\n",
              "      border: none;\n",
              "      border-radius: 50%;\n",
              "      cursor: pointer;\n",
              "      display: none;\n",
              "      fill: #1967D2;\n",
              "      height: 32px;\n",
              "      padding: 0 0 0 0;\n",
              "      width: 32px;\n",
              "    }\n",
              "\n",
              "    .colab-df-convert:hover {\n",
              "      background-color: #E2EBFA;\n",
              "      box-shadow: 0px 1px 2px rgba(60, 64, 67, 0.3), 0px 1px 3px 1px rgba(60, 64, 67, 0.15);\n",
              "      fill: #174EA6;\n",
              "    }\n",
              "\n",
              "    [theme=dark] .colab-df-convert {\n",
              "      background-color: #3B4455;\n",
              "      fill: #D2E3FC;\n",
              "    }\n",
              "\n",
              "    [theme=dark] .colab-df-convert:hover {\n",
              "      background-color: #434B5C;\n",
              "      box-shadow: 0px 1px 3px 1px rgba(0, 0, 0, 0.15);\n",
              "      filter: drop-shadow(0px 1px 2px rgba(0, 0, 0, 0.3));\n",
              "      fill: #FFFFFF;\n",
              "    }\n",
              "  </style>\n",
              "\n",
              "      <script>\n",
              "        const buttonEl =\n",
              "          document.querySelector('#df-4f28be6c-6a8c-4c3b-8137-aab4ed2c99c9 button.colab-df-convert');\n",
              "        buttonEl.style.display =\n",
              "          google.colab.kernel.accessAllowed ? 'block' : 'none';\n",
              "\n",
              "        async function convertToInteractive(key) {\n",
              "          const element = document.querySelector('#df-4f28be6c-6a8c-4c3b-8137-aab4ed2c99c9');\n",
              "          const dataTable =\n",
              "            await google.colab.kernel.invokeFunction('convertToInteractive',\n",
              "                                                     [key], {});\n",
              "          if (!dataTable) return;\n",
              "\n",
              "          const docLinkHtml = 'Like what you see? Visit the ' +\n",
              "            '<a target=\"_blank\" href=https://colab.research.google.com/notebooks/data_table.ipynb>data table notebook</a>'\n",
              "            + ' to learn more about interactive tables.';\n",
              "          element.innerHTML = '';\n",
              "          dataTable['output_type'] = 'display_data';\n",
              "          await google.colab.output.renderOutput(dataTable, element);\n",
              "          const docLink = document.createElement('div');\n",
              "          docLink.innerHTML = docLinkHtml;\n",
              "          element.appendChild(docLink);\n",
              "        }\n",
              "      </script>\n",
              "    </div>\n",
              "  </div>\n",
              "  "
            ],
            "text/plain": [
              "       IPC_x    M0_x\n",
              "IPC_y    1.0  0.0175\n",
              "M0_y     0.0  1.0000"
            ]
          },
          "metadata": {},
          "execution_count": 159
        }
      ]
    },
    {
      "cell_type": "markdown",
      "source": [
        "La fila son la Respuesta (Y) y las columnas son la serie predictora (X). Por ejemplo, si toma el valor 0.0175 en (fila 1, columna 2), se refiere al valor p de M0 que causa IPC. Mientras que el 0,000 en (fila 2, columna 1) se refiere al valor p de M0 que causa IPC. Entonces, ¿cómo interpretar los valores de p? Si un valor p dado es < nivel de significancia (0.05), entonces, la serie X correspondiente (columna) causa la Y (fila). Por ejemplo, el valor P de 0.0175 en (fila 1, columna 2) representa el valor p de la prueba de causalidad de Granger para M0 que causa IPC, que es menor que el nivel de significación de 0,05. Entonces, se puede rechazar la hipótesis nula y concluir que M0 causa IPC. "
      ],
      "metadata": {
        "id": "MTUS2x2-4g2d"
      }
    },
    {
      "cell_type": "markdown",
      "source": [
        "La prueba de cointegración ayuda a establecer la presencia de una conexión estadísticamente significativa entre dos o más series de tiempo. \n",
        "\n",
        "El orden de integración (d) es el número de diferenciaciones requeridas para hacer que una serie de tiempo no estacionaria sea estacionaria. \n",
        "\n",
        "Ahora, cuando tenés dos o más series de tiempo, y existe una combinación lineal de ellas que tiene un orden de integración (d) menor que el de la serie individual, entonces se dice que la colección de series está cointegrada. Cuando dos o más series de tiempo están cointegradas, significa que tienen una relación estadísticamente significativa a largo plazo. Esta es la premisa básica en la que se basan los modelos de vectores autorregresivos (VAR). Por lo tanto, es bastante común implementar la prueba de cointegración antes de comenzar a construir modelos VAR. \n",
        "\n",
        "Soren Johanssen en su artículo (1991) ideó un procedimiento para implementar la prueba de cointegración. Es bastante sencillo de implementar en los modelos de estadísticas de Python, como puede ver a continuación."
      ],
      "metadata": {
        "id": "y6sk84FY6WA5"
      }
    },
    {
      "cell_type": "code",
      "source": [
        "from statsmodels.tsa.vector_ar.vecm import coint_johansen\n",
        "\n",
        "def adjust(val, length= 6): return str(val).ljust(length)\n",
        "\n",
        "def cointegration_test(df, alpha=0.05): \n",
        "    \"\"\"Perform Johanson's Cointegration Test and Report Summary\"\"\"\n",
        "    out = coint_johansen(df,-1,5)\n",
        "    d = {'0.90':0, '0.95':1, '0.99':2}\n",
        "    traces = out.lr1\n",
        "    cvts = out.cvt[:, d[str(1-alpha)]]  \n",
        "\n",
        "    # Resultado\n",
        "    print('Name   ::  Test Stat > C(95%)    =>   Signif  \\n', '--'*20)\n",
        "    for col, trace, cvt in zip(df.columns, traces, cvts):\n",
        "        print(adjust(col), ':: ', adjust(round(trace,2), 9), \">\", adjust(cvt, 8), ' =>  ' , trace > cvt)\n",
        "\n",
        "cointegration_test(pd.DataFrame({'IPC': IPC, 'M0': M0}))"
      ],
      "metadata": {
        "id": "FURe1r2-Ct8Q",
        "outputId": "ae8eb9b9-c8bd-4751-db9c-fd6d78bf0960",
        "colab": {
          "base_uri": "https://localhost:8080/"
        }
      },
      "execution_count": 163,
      "outputs": [
        {
          "output_type": "stream",
          "name": "stdout",
          "text": [
            "Name   ::  Test Stat > C(95%)    =>   Signif  \n",
            " ----------------------------------------\n",
            "IPC    ::  19.75     > 12.3212   =>   True\n",
            "M0     ::  5.11      > 4.1296    =>   True\n"
          ]
        }
      ]
    },
    {
      "cell_type": "markdown",
      "source": [
        "Ahora bien, evidentemente las series son no estacionarias, por lo que corresponderá hacerlas estacionarias antes de correr el modelo VAR. "
      ],
      "metadata": {
        "id": "OAAzHMpM9bdH"
      }
    },
    {
      "cell_type": "code",
      "source": [
        "d = {'IPC': IPC, 'M0': M0}\n",
        "df = pd.DataFrame(data=d)\n",
        "df1=df.diff().dropna()\n",
        "df2=df1.diff().dropna()"
      ],
      "metadata": {
        "id": "aXFwHVd69jzx"
      },
      "execution_count": 175,
      "outputs": []
    },
    {
      "cell_type": "code",
      "source": [
        "from statsmodels.tsa.stattools import adfuller\n",
        "res=adfuller(df['IPC'])\n",
        "print('ADF Statistic: %f' % res[0])\n",
        "print('p-value: %f' % res[1])\n",
        "print('Critical Values:')\n",
        "for key, value in res[4].items():\n",
        "\tprint('\\t%s: %.3f' % (key, value))"
      ],
      "metadata": {
        "id": "OB9glDSy9W5V",
        "outputId": "61c88ec1-c560-44d8-d208-886282f0fa29",
        "colab": {
          "base_uri": "https://localhost:8080/"
        }
      },
      "execution_count": 179,
      "outputs": [
        {
          "output_type": "stream",
          "name": "stdout",
          "text": [
            "ADF Statistic: 3.537760\n",
            "p-value: 1.000000\n",
            "Critical Values:\n",
            "\t1%: -3.526\n",
            "\t5%: -2.903\n",
            "\t10%: -2.589\n"
          ]
        }
      ]
    },
    {
      "cell_type": "markdown",
      "source": [
        "No alcanza ni siquiera diferenciando una vez las series para volverlas estacionarias. "
      ],
      "metadata": {
        "id": "Vlu-sb10-o7Z"
      }
    },
    {
      "cell_type": "code",
      "source": [
        "from statsmodels.tsa.api import VAR\n",
        "\n",
        "model = VAR(df2)\n",
        "x = model.select_order(maxlags=12)\n",
        "x.summary()"
      ],
      "metadata": {
        "id": "XB-hXq7C_A_l",
        "outputId": "8ae8f2c2-54c2-4e9d-b2b4-3c369d738a18",
        "colab": {
          "base_uri": "https://localhost:8080/",
          "height": 387
        }
      },
      "execution_count": 181,
      "outputs": [
        {
          "output_type": "stream",
          "name": "stderr",
          "text": [
            "/usr/local/lib/python3.7/dist-packages/statsmodels/tsa/base/tsa_model.py:215: ValueWarning: An unsupported index was provided and will be ignored when e.g. forecasting.\n",
            "  ' ignored when e.g. forecasting.', ValueWarning)\n"
          ]
        },
        {
          "output_type": "execute_result",
          "data": {
            "text/html": [
              "<table class=\"simpletable\">\n",
              "<caption>VAR Order Selection (* highlights the minimums)</caption>\n",
              "<tr>\n",
              "   <td></td>      <th>AIC</th>         <th>BIC</th>         <th>FPE</th>        <th>HQIC</th>    \n",
              "</tr>\n",
              "<tr>\n",
              "  <th>0</th>  <td>     37.98</td>  <td>     38.05</td>  <td> 3.119e+16</td>  <td>     38.01</td> \n",
              "</tr>\n",
              "<tr>\n",
              "  <th>1</th>  <td>     37.60</td>  <td>     37.82</td>  <td> 2.145e+16</td>  <td>     37.69</td> \n",
              "</tr>\n",
              "<tr>\n",
              "  <th>2</th>  <td>     37.43*</td> <td>     37.79*</td> <td> 1.812e+16*</td> <td>     37.57*</td>\n",
              "</tr>\n",
              "<tr>\n",
              "  <th>3</th>  <td>     37.50</td>  <td>     37.99</td>  <td> 1.940e+16</td>  <td>     37.69</td> \n",
              "</tr>\n",
              "<tr>\n",
              "  <th>4</th>  <td>     37.59</td>  <td>     38.23</td>  <td> 2.133e+16</td>  <td>     37.84</td> \n",
              "</tr>\n",
              "<tr>\n",
              "  <th>5</th>  <td>     37.69</td>  <td>     38.46</td>  <td> 2.355e+16</td>  <td>     37.99</td> \n",
              "</tr>\n",
              "<tr>\n",
              "  <th>6</th>  <td>     37.72</td>  <td>     38.64</td>  <td> 2.446e+16</td>  <td>     38.08</td> \n",
              "</tr>\n",
              "<tr>\n",
              "  <th>7</th>  <td>     37.65</td>  <td>     38.71</td>  <td> 2.300e+16</td>  <td>     38.06</td> \n",
              "</tr>\n",
              "<tr>\n",
              "  <th>8</th>  <td>     37.76</td>  <td>     38.96</td>  <td> 2.603e+16</td>  <td>     38.23</td> \n",
              "</tr>\n",
              "<tr>\n",
              "  <th>9</th>  <td>     37.87</td>  <td>     39.21</td>  <td> 2.935e+16</td>  <td>     38.39</td> \n",
              "</tr>\n",
              "<tr>\n",
              "  <th>10</th> <td>     37.72</td>  <td>     39.19</td>  <td> 2.558e+16</td>  <td>     38.29</td> \n",
              "</tr>\n",
              "<tr>\n",
              "  <th>11</th> <td>     37.56</td>  <td>     39.18</td>  <td> 2.236e+16</td>  <td>     38.19</td> \n",
              "</tr>\n",
              "<tr>\n",
              "  <th>12</th> <td>     37.64</td>  <td>     39.40</td>  <td> 2.492e+16</td>  <td>     38.33</td> \n",
              "</tr>\n",
              "</table>"
            ],
            "text/plain": [
              "<class 'statsmodels.iolib.table.SimpleTable'>"
            ]
          },
          "metadata": {},
          "execution_count": 181
        }
      ]
    },
    {
      "cell_type": "code",
      "source": [
        "model_fitted = model.fit(2)\n",
        "model_fitted.summary()"
      ],
      "metadata": {
        "id": "Jn8ID5pg_S-a",
        "outputId": "490dd4f6-d860-4db5-87f4-da240ade4dec",
        "colab": {
          "base_uri": "https://localhost:8080/"
        }
      },
      "execution_count": 182,
      "outputs": [
        {
          "output_type": "execute_result",
          "data": {
            "text/plain": [
              "  Summary of Regression Results   \n",
              "==================================\n",
              "Model:                         VAR\n",
              "Method:                        OLS\n",
              "Date:           Mon, 14, Feb, 2022\n",
              "Time:                     16:07:34\n",
              "--------------------------------------------------------------------\n",
              "No. of Equations:         2.00000    BIC:                    37.4480\n",
              "Nobs:                     69.0000    HQIC:                   37.2527\n",
              "Log likelihood:          -1466.60    FPE:                1.32759e+16\n",
              "AIC:                      37.1242    Det(Omega_mle):     1.15425e+16\n",
              "--------------------------------------------------------------------\n",
              "Results for equation IPC\n",
              "=========================================================================\n",
              "            coefficient       std. error           t-stat            prob\n",
              "-------------------------------------------------------------------------\n",
              "const          0.453751         0.935489            0.485           0.628\n",
              "L1.IPC        -0.447847         0.117532           -3.810           0.000\n",
              "L1.M0         -0.000000         0.000000           -0.371           0.711\n",
              "L2.IPC        -0.345899         0.117800           -2.936           0.003\n",
              "L2.M0         -0.000000         0.000000           -0.663           0.507\n",
              "=========================================================================\n",
              "\n",
              "Results for equation M0\n",
              "=========================================================================\n",
              "            coefficient       std. error           t-stat            prob\n",
              "-------------------------------------------------------------------------\n",
              "const     398689.710540   1683226.586437            0.237           0.813\n",
              "L1.IPC     96013.808911    211475.750230            0.454           0.650\n",
              "L1.M0         -0.777227         0.115788           -6.712           0.000\n",
              "L2.IPC    -63664.460815    211958.435218           -0.300           0.764\n",
              "L2.M0         -0.403513         0.120807           -3.340           0.001\n",
              "=========================================================================\n",
              "\n",
              "Correlation matrix of residuals\n",
              "            IPC        M0\n",
              "IPC    1.000000 -0.125967\n",
              "M0    -0.125967  1.000000\n",
              "\n"
            ]
          },
          "metadata": {},
          "execution_count": 182
        }
      ]
    },
    {
      "cell_type": "code",
      "source": [
        "from statsmodels.stats.stattools import durbin_watson\n",
        "out = durbin_watson(model_fitted.resid)\n",
        "\n",
        "for col, val in zip(df.columns, out):\n",
        "    print(adjust(col), ':', round(val, 2))"
      ],
      "metadata": {
        "id": "AdTu1PFkBGsz",
        "outputId": "252abc98-eaf5-416c-9631-c34c6d9dab9b",
        "colab": {
          "base_uri": "https://localhost:8080/"
        }
      },
      "execution_count": 183,
      "outputs": [
        {
          "output_type": "stream",
          "name": "stdout",
          "text": [
            "IPC    : 2.03\n",
            "M0     : 2.13\n"
          ]
        }
      ]
    }
  ]
}